{
  "nbformat": 4,
  "nbformat_minor": 0,
  "metadata": {
    "colab": {
      "provenance": [],
      "include_colab_link": true
    },
    "kernelspec": {
      "name": "python3",
      "display_name": "Python 3"
    }
  },
  "cells": [
    {
      "cell_type": "markdown",
      "metadata": {
        "id": "view-in-github",
        "colab_type": "text"
      },
      "source": [
        "<a href=\"https://colab.research.google.com/github/manjari-cse/Image-processing/blob/main/Otsu.ipynb\" target=\"_parent\"><img src=\"https://colab.research.google.com/assets/colab-badge.svg\" alt=\"Open In Colab\"/></a>"
      ]
    },
    {
      "cell_type": "code",
      "metadata": {
        "id": "J7LQQRTV_wvJ"
      },
      "source": [
        "def compOtsu(B, k):\n",
        "  P1 = sum(B[:k+1])\n",
        "  P2 = sum(B[k+1:6])\n",
        "  s=0\n",
        "  # mean intensity of pixels corresponding to Class 1\n",
        "  for i in range(k+1):\n",
        "    s = s + i*B[i]\n",
        "  m1 = s/P1\n",
        "  # mean intensity of pixels corresponding to Class 2\n",
        "  s=0\n",
        "  for i in range(k+1,6):\n",
        "    s = s + i*B[i]\n",
        "  m2 = s/P2\n",
        "  # average mean intensity of class\n",
        "  mG = P1 * m1 + P2 * m2\n",
        "  # Between Class Variance\n",
        "  sigb = P1 * pow(m1 - mG,2) + P2 * pow(m2 - mG,2)\n",
        "  # variance in intensity of pixels corresponding to Class 1\n",
        "  sig1 = 0\n",
        "  for i in range(0,k+1):\n",
        "    sig1 = sig1 + B[i]*pow(i - m1, 2)\n",
        "  sig1 = sig1/P1\n",
        "  # variance in intensity of pixels corresponding to Class 2\n",
        "  sig2 = 0\n",
        "  for i in range(k+1,6):\n",
        "    sig2 = sig2 + B[i]*pow(i - m2, 2)\n",
        "  sig2 = sig2/P2\n",
        "  # Within Class Variance\n",
        "  w = P1 * sig1 + P2 * sig2\n",
        "  ratio = sigb/w\n",
        "  return ratio , sigb , w"
      ],
      "execution_count": null,
      "outputs": []
    },
    {
      "cell_type": "code",
      "metadata": {
        "id": "U94xPXK9_2ww",
        "colab": {
          "base_uri": "https://localhost:8080/",
          "height": 191
        },
        "outputId": "757bb6b5-ea86-453a-a980-abc73e205e59"
      },
      "source": [
        "import numpy as np\n",
        "hist = [8,7,2,6,9,4]\n",
        "#Find Normalized Histogram\n",
        "for ind,i in enumerate(hist):\n",
        "  hist[ind] = hist[ind]/36\n",
        "for k in range(0,5):\n",
        "  print(k)\n",
        "  print(compOtsu(hist,k))"
      ],
      "execution_count": null,
      "outputs": [
        {
          "output_type": "stream",
          "text": [
            "0\n",
            "(1.0432459750198546, 1.5928130511463847, 1.526785714285714)\n",
            "1\n",
            "(4.609934982556298, 2.5635141093474436, 0.5560846560846561)\n",
            "2\n",
            "(5.355062096083471, 2.628714692504683, 0.4908840729274166)\n",
            "3\n",
            "(2.1901350096058434, 2.141709504934142, 0.9778892604979561)\n",
            "4\n",
            "(0.38702345726660675, 0.8704668209876547, 2.2491319444444446)\n"
          ],
          "name": "stdout"
        }
      ]
    }
  ]
}